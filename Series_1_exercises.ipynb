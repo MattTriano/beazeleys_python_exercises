{
 "cells": [
  {
   "cell_type": "markdown",
   "id": "3799814b-f286-42c7-ad32-9f39c9916bbd",
   "metadata": {},
   "source": [
    "# Chapter 1\n",
    "## Exercise 1.1\n",
    "\n",
    "[Source](https://github.com/dabeaz-course/python-mastery/blob/main/Exercises/ex1_1.md)"
   ]
  },
  {
   "cell_type": "code",
   "execution_count": 1,
   "id": "b1b4f546-7b15-4830-8972-2370ea401141",
   "metadata": {},
   "outputs": [],
   "source": [
    "import random\n",
    "\n",
    "chars = '\\|/'\n",
    "\n",
    "def draw(rows, columns):\n",
    "    for r in range(rows):\n",
    "    \tprint(''.join(random.choice(chars) for _ in range(columns)))"
   ]
  },
  {
   "cell_type": "code",
   "execution_count": 2,
   "id": "a5b3b772-f9f0-4b7b-8a5c-3bc10f58d115",
   "metadata": {},
   "outputs": [
    {
     "name": "stdout",
     "output_type": "stream",
     "text": [
      "||/\\||\\\\/|\\////\\/\\\\\\\n",
      "//\\/\\/||\\/\\/|\\/\\\\\\||\n",
      "|/\\/|\\|||\\/\\\\||||\\\\/\n",
      "\\|\\||/\\//\\\\\\|\\\\//|//\n",
      "|\\////\\/\\|//\\\\\\/\\///\n",
      "//\\/\\//||/\\///\\||///\n",
      "|/////\\/|/\\|///|||\\|\n",
      "||//||/////||////\\||\n",
      "|\\||||\\|/|///\\|||\\//\n",
      "/\\||||\\\\||\\\\/\\/|//\\/\n"
     ]
    }
   ],
   "source": [
    "draw(10, 20)"
   ]
  },
  {
   "cell_type": "markdown",
   "id": "1b5be6df-721d-4954-83bb-ff9195253cc4",
   "metadata": {},
   "source": [
    "## Exercise 1.2\n",
    "\n",
    "[Source](https://github.com/dabeaz-course/python-mastery/blob/main/Exercises/ex1_2.md)\n",
    "\n",
    "It's just an intro to basic python data structures/types with no independant excercises. Skipping."
   ]
  },
  {
   "cell_type": "markdown",
   "id": "ded4b55e-6bc9-4633-82f6-a10846fc547c",
   "metadata": {},
   "source": [
    "# Exercise 1.3"
   ]
  },
  {
   "cell_type": "code",
   "execution_count": 3,
   "id": "7a583e38-e698-45ae-a88e-dd09bcdcb4f4",
   "metadata": {},
   "outputs": [
    {
     "name": "stdout",
     "output_type": "stream",
     "text": [
      "{'ticker': 'AA', 'quantity': '100', 'purchase_price': '32.20', 'cost_basis': 3220.0}\n",
      "{'ticker': 'IBM', 'quantity': '50', 'purchase_price': '91.10', 'cost_basis': 4555.0}\n",
      "{'ticker': 'CAT', 'quantity': '150', 'purchase_price': '83.44', 'cost_basis': 12516.0}\n",
      "{'ticker': 'MSFT', 'quantity': '200', 'purchase_price': '51.23', 'cost_basis': 10246.0}\n",
      "{'ticker': 'GE', 'quantity': '95', 'purchase_price': '40.37', 'cost_basis': 3835.15}\n",
      "{'ticker': 'MSFT', 'quantity': '50', 'purchase_price': '65.10', 'cost_basis': 3255.0}\n",
      "{'ticker': 'IBM', 'quantity': '100', 'purchase_price': '70.44', 'cost_basis': 7044.0}\n",
      "\n",
      "Total basis cost: $44671.15\n"
     ]
    }
   ],
   "source": [
    "import csv\n",
    "from io import StringIO\n",
    "\n",
    "portfolio_dat = \"\"\"AA 100 32.20\n",
    "IBM 50 91.10\n",
    "CAT 150 83.44\n",
    "MSFT 200 51.23\n",
    "GE 95 40.37\n",
    "MSFT 50 65.10\n",
    "IBM 100 70.44\n",
    "\"\"\"\n",
    "\n",
    "reader = csv.DictReader(\n",
    "    f=StringIO(portfolio_dat),\n",
    "    delimiter=\" \",\n",
    "    fieldnames=[\"ticker\", \"quantity\", \"purchase_price\"]\n",
    ")\n",
    "\n",
    "portfolio_positions = []\n",
    "for position in reader:\n",
    "    position[\"cost_basis\"] = round(\n",
    "        float(position[\"quantity\"]) * float(position[\"purchase_price\"]), 2\n",
    "    )\n",
    "    print(position)\n",
    "    portfolio_positions.append(position)\n",
    "\n",
    "print(f\"\\nTotal basis cost: ${sum([el['cost_basis'] for el in portfolio_positions])}\")"
   ]
  },
  {
   "cell_type": "code",
   "execution_count": 4,
   "id": "9731fbb2-fbe6-418c-a448-559d408629b3",
   "metadata": {},
   "outputs": [
    {
     "data": {
      "text/plain": [
       "[{'ticker': 'AA',\n",
       "  'quantity': '100',\n",
       "  'purchase_price': '32.20',\n",
       "  'cost_basis': 3220.0},\n",
       " {'ticker': 'IBM',\n",
       "  'quantity': '50',\n",
       "  'purchase_price': '91.10',\n",
       "  'cost_basis': 4555.0},\n",
       " {'ticker': 'CAT',\n",
       "  'quantity': '150',\n",
       "  'purchase_price': '83.44',\n",
       "  'cost_basis': 12516.0},\n",
       " {'ticker': 'MSFT',\n",
       "  'quantity': '200',\n",
       "  'purchase_price': '51.23',\n",
       "  'cost_basis': 10246.0},\n",
       " {'ticker': 'GE',\n",
       "  'quantity': '95',\n",
       "  'purchase_price': '40.37',\n",
       "  'cost_basis': 3835.15},\n",
       " {'ticker': 'MSFT',\n",
       "  'quantity': '50',\n",
       "  'purchase_price': '65.10',\n",
       "  'cost_basis': 3255.0},\n",
       " {'ticker': 'IBM',\n",
       "  'quantity': '100',\n",
       "  'purchase_price': '70.44',\n",
       "  'cost_basis': 7044.0}]"
      ]
     },
     "execution_count": 4,
     "metadata": {},
     "output_type": "execute_result"
    }
   ],
   "source": [
    "portfolio_positions"
   ]
  },
  {
   "cell_type": "markdown",
   "id": "a392ae9a-e9f4-48ac-919d-1168675261e3",
   "metadata": {},
   "source": [
    "## Exercise 1.4\n",
    "\n",
    "[Source](https://github.com/dabeaz-course/python-mastery/blob/main/Exercises/ex1_4.md)"
   ]
  },
  {
   "cell_type": "code",
   "execution_count": 5,
   "id": "a2aae7cb-04f6-405f-9c47-34d7e8ce356a",
   "metadata": {},
   "outputs": [],
   "source": [
    "portfolio_dat2 = \"\"\"AA  50 27.10\n",
    "HPQ  250 43.15\n",
    "MSFT 25 50.15\n",
    "GE 125 52.10\"\"\"\n",
    "\n",
    "portfolio_dat3 = \"\"\"AA 15 39.48\n",
    "AXP 10 62.58\n",
    "BA 5 98.31\n",
    "C - 53.08\n",
    "CAT 15 78.29\n",
    "DD 10 50.75\n",
    "DIS - N/A\n",
    "GE - 37.23\n",
    "GM 15 31.44\n",
    "HD 20 37.67\n",
    "HPQ 5 45.81\n",
    "IBM 10 102.86\n",
    "INTC - 21.84\n",
    "JNJ 20 62.25\n",
    "JPM 10 50.35\n",
    "KO 5 51.65\n",
    "MCD - 51.11\n",
    "MMM 10 85.60\n",
    "MO - 70.09\n",
    "MRK 5 50.21\n",
    "MSFT 20 30.08\n",
    "PFE - 26.40\n",
    "PG 5 62.79\n",
    "T 10 40.03\n",
    "UTX 8 69.81\n",
    "VZ - 42.92\n",
    "WMT 10 49.78\n",
    "XOM 15 82.50\"\"\""
   ]
  },
  {
   "cell_type": "code",
   "execution_count": 6,
   "id": "902546fb-c0e0-4549-9bf3-da9938c5e5d1",
   "metadata": {},
   "outputs": [],
   "source": [
    "reader = csv.DictReader(\n",
    "    f=StringIO(portfolio_dat3),\n",
    "    delimiter=\" \",\n",
    "    fieldnames=[\"ticker\", \"quantity\", \"purchase_price\"]\n",
    ")"
   ]
  },
  {
   "cell_type": "code",
   "execution_count": 7,
   "id": "e0d39fca-6254-46b1-8145-d94f3282e47c",
   "metadata": {},
   "outputs": [
    {
     "name": "stdout",
     "output_type": "stream",
     "text": [
      "{'ticker': 'AA', 'quantity': '15', 'purchase_price': '39.48'}\n",
      "{'ticker': 'AXP', 'quantity': '10', 'purchase_price': '62.58'}\n",
      "{'ticker': 'BA', 'quantity': '5', 'purchase_price': '98.31'}\n",
      "{'ticker': 'C', 'quantity': '-', 'purchase_price': '53.08'}\n",
      "{'ticker': 'CAT', 'quantity': '15', 'purchase_price': '78.29'}\n",
      "{'ticker': 'DD', 'quantity': '10', 'purchase_price': '50.75'}\n",
      "{'ticker': 'DIS', 'quantity': '-', 'purchase_price': 'N/A'}\n",
      "{'ticker': 'GE', 'quantity': '-', 'purchase_price': '37.23'}\n",
      "{'ticker': 'GM', 'quantity': '15', 'purchase_price': '31.44'}\n",
      "{'ticker': 'HD', 'quantity': '20', 'purchase_price': '37.67'}\n",
      "{'ticker': 'HPQ', 'quantity': '5', 'purchase_price': '45.81'}\n",
      "{'ticker': 'IBM', 'quantity': '10', 'purchase_price': '102.86'}\n",
      "{'ticker': 'INTC', 'quantity': '-', 'purchase_price': '21.84'}\n",
      "{'ticker': 'JNJ', 'quantity': '20', 'purchase_price': '62.25'}\n",
      "{'ticker': 'JPM', 'quantity': '10', 'purchase_price': '50.35'}\n",
      "{'ticker': 'KO', 'quantity': '5', 'purchase_price': '51.65'}\n",
      "{'ticker': 'MCD', 'quantity': '-', 'purchase_price': '51.11'}\n",
      "{'ticker': 'MMM', 'quantity': '10', 'purchase_price': '85.60'}\n",
      "{'ticker': 'MO', 'quantity': '-', 'purchase_price': '70.09'}\n",
      "{'ticker': 'MRK', 'quantity': '5', 'purchase_price': '50.21'}\n",
      "{'ticker': 'MSFT', 'quantity': '20', 'purchase_price': '30.08'}\n",
      "{'ticker': 'PFE', 'quantity': '-', 'purchase_price': '26.40'}\n",
      "{'ticker': 'PG', 'quantity': '5', 'purchase_price': '62.79'}\n",
      "{'ticker': 'T', 'quantity': '10', 'purchase_price': '40.03'}\n",
      "{'ticker': 'UTX', 'quantity': '8', 'purchase_price': '69.81'}\n",
      "{'ticker': 'VZ', 'quantity': '-', 'purchase_price': '42.92'}\n",
      "{'ticker': 'WMT', 'quantity': '10', 'purchase_price': '49.78'}\n",
      "{'ticker': 'XOM', 'quantity': '15', 'purchase_price': '82.50'}\n"
     ]
    }
   ],
   "source": [
    "for row in reader:\n",
    "    print(row)"
   ]
  },
  {
   "cell_type": "code",
   "execution_count": 8,
   "id": "64570dcc-1816-4903-a22d-759b2abed70b",
   "metadata": {},
   "outputs": [],
   "source": [
    "def portfolio_cost(portfolio_data: str) -> float:\n",
    "    reader = csv.DictReader(\n",
    "        f=StringIO(portfolio_data),\n",
    "        delimiter=\" \",\n",
    "        fieldnames=[\"ticker\", \"quantity\", \"purchase_price\"]\n",
    "    )\n",
    "    total_basis_costs = 0\n",
    "    for record in reader:\n",
    "        # print(record)\n",
    "        ticker = record[\"ticker\"]\n",
    "        try:\n",
    "            quantity = int(record[\"quantity\"])\n",
    "        except ValueError:\n",
    "            quantity = None\n",
    "            print(\n",
    "                f\"Couldn't parse quantity value '{quantity}' from record\\n\" +\n",
    "                f\"  '{record}'\\n  to type int.\"\n",
    "            )\n",
    "        try:\n",
    "            purchase_price = float(record[\"purchase_price\"])\n",
    "        except ValueError:\n",
    "            purchase_price = None\n",
    "            print(\n",
    "                f\"Couldn't parse purchase_price value '{purchase_price}' from\\n\" +\n",
    "                f\"  '{record}'\\n  to type float\")\n",
    "        try:\n",
    "            cost_basis = round(quantity * purchase_price, 2)\n",
    "            total_basis_costs = total_basis_costs + cost_basis\n",
    "        except TypeError:\n",
    "            print(\n",
    "                f\"Couldn't produce cost_basis.\" +\n",
    "                f\"  quantity: {quantity},\" +\n",
    "                f\"  purchase_price: {purchase_price}\"\n",
    "            )\n",
    "    return round(total_basis_costs, 2)"
   ]
  },
  {
   "cell_type": "code",
   "execution_count": 9,
   "id": "3ad995ac-a23d-4ee8-bec4-6c22cd766ac0",
   "metadata": {},
   "outputs": [
    {
     "name": "stdout",
     "output_type": "stream",
     "text": [
      "Couldn't parse quantity value 'None' from record\n",
      "  '{'ticker': 'AA', 'quantity': '', 'purchase_price': '50', None: ['27.10']}'\n",
      "  to type int.\n",
      "Couldn't produce cost_basis.  quantity: None,  purchase_price: 50.0\n",
      "Couldn't parse quantity value 'None' from record\n",
      "  '{'ticker': 'HPQ', 'quantity': '', 'purchase_price': '250', None: ['43.15']}'\n",
      "  to type int.\n",
      "Couldn't produce cost_basis.  quantity: None,  purchase_price: 250.0\n"
     ]
    },
    {
     "data": {
      "text/plain": [
       "7766.25"
      ]
     },
     "execution_count": 9,
     "metadata": {},
     "output_type": "execute_result"
    }
   ],
   "source": [
    "portfolio_cost(portfolio_dat2)"
   ]
  },
  {
   "cell_type": "code",
   "execution_count": 10,
   "id": "c018be47-80c3-42da-a4ca-796eb4dfc12e",
   "metadata": {},
   "outputs": [
    {
     "name": "stdout",
     "output_type": "stream",
     "text": [
      "Couldn't parse quantity value 'None' from record\n",
      "  '{'ticker': 'C', 'quantity': '-', 'purchase_price': '53.08'}'\n",
      "  to type int.\n",
      "Couldn't produce cost_basis.  quantity: None,  purchase_price: 53.08\n",
      "Couldn't parse quantity value 'None' from record\n",
      "  '{'ticker': 'DIS', 'quantity': '-', 'purchase_price': 'N/A'}'\n",
      "  to type int.\n",
      "Couldn't parse purchase_price value 'None' from\n",
      "  '{'ticker': 'DIS', 'quantity': '-', 'purchase_price': 'N/A'}'\n",
      "  to type float\n",
      "Couldn't produce cost_basis.  quantity: None,  purchase_price: None\n",
      "Couldn't parse quantity value 'None' from record\n",
      "  '{'ticker': 'GE', 'quantity': '-', 'purchase_price': '37.23'}'\n",
      "  to type int.\n",
      "Couldn't produce cost_basis.  quantity: None,  purchase_price: 37.23\n",
      "Couldn't parse quantity value 'None' from record\n",
      "  '{'ticker': 'INTC', 'quantity': '-', 'purchase_price': '21.84'}'\n",
      "  to type int.\n",
      "Couldn't produce cost_basis.  quantity: None,  purchase_price: 21.84\n",
      "Couldn't parse quantity value 'None' from record\n",
      "  '{'ticker': 'MCD', 'quantity': '-', 'purchase_price': '51.11'}'\n",
      "  to type int.\n",
      "Couldn't produce cost_basis.  quantity: None,  purchase_price: 51.11\n",
      "Couldn't parse quantity value 'None' from record\n",
      "  '{'ticker': 'MO', 'quantity': '-', 'purchase_price': '70.09'}'\n",
      "  to type int.\n",
      "Couldn't produce cost_basis.  quantity: None,  purchase_price: 70.09\n",
      "Couldn't parse quantity value 'None' from record\n",
      "  '{'ticker': 'PFE', 'quantity': '-', 'purchase_price': '26.40'}'\n",
      "  to type int.\n",
      "Couldn't produce cost_basis.  quantity: None,  purchase_price: 26.4\n",
      "Couldn't parse quantity value 'None' from record\n",
      "  '{'ticker': 'VZ', 'quantity': '-', 'purchase_price': '42.92'}'\n",
      "  to type int.\n",
      "Couldn't produce cost_basis.  quantity: None,  purchase_price: 42.92\n"
     ]
    },
    {
     "data": {
      "text/plain": [
       "12597.48"
      ]
     },
     "execution_count": 10,
     "metadata": {},
     "output_type": "execute_result"
    }
   ],
   "source": [
    "portfolio_cost(portfolio_dat3)"
   ]
  },
  {
   "cell_type": "markdown",
   "id": "09284a7f-d532-418e-8b96-0471401f1989",
   "metadata": {},
   "source": [
    "## Exercise 1.5\n",
    "\n",
    "[source](https://github.com/dabeaz-course/python-mastery/blob/main/Exercises/ex1_5.md)"
   ]
  },
  {
   "cell_type": "code",
   "execution_count": 11,
   "id": "e00b7ae7-8c1f-418e-8fed-9ba68af7d9aa",
   "metadata": {},
   "outputs": [],
   "source": [
    "class Stock:\n",
    "    def __init__(self, name, shares, price):\n",
    "        self.name = name\n",
    "        self.shares = shares\n",
    "        self.price = price\n",
    "    def cost(self):\n",
    "        return self.shares * self.price"
   ]
  },
  {
   "cell_type": "code",
   "execution_count": 12,
   "id": "774b0f42-6e8a-4cd3-9848-acfbe11ea812",
   "metadata": {},
   "outputs": [
    {
     "name": "stdout",
     "output_type": "stream",
     "text": [
      "Stock name:      GOOG\n",
      "Stock shares:     100\n",
      "Stock price:   $490.1\n",
      "Stock cost:  $49010.0\n"
     ]
    }
   ],
   "source": [
    "s = Stock('GOOG',100,490.10)\n",
    "print(f\"Stock name:   {s.name:>7}\")\n",
    "print(f\"Stock shares: {s.shares:>7}\")\n",
    "print(f\"Stock price:  {f'${s.price}':>7}\")\n",
    "print(f\"Stock cost:  ${s.cost():>7}\")"
   ]
  },
  {
   "cell_type": "markdown",
   "id": "2a11ab7f-976c-4dff-9f96-b55c058922e5",
   "metadata": {},
   "source": [
    "## Exercise 1.6\n",
    "[Source](https://github.com/dabeaz-course/python-mastery/blob/main/Exercises/ex1_6.md)\n",
    "\n",
    "This exercise is focused on checking if a user can navigate python's import system. I'm developing things interactively, but I'll adapt this to fit my jupyter workflow."
   ]
  },
  {
   "cell_type": "code",
   "execution_count": 13,
   "id": "7963f212-b194-443d-ba33-80f4f76f3b25",
   "metadata": {},
   "outputs": [],
   "source": [
    "from pathlib import Path\n",
    "import sys"
   ]
  },
  {
   "cell_type": "code",
   "execution_count": 14,
   "id": "a9cedd2a-44cc-4e6f-8dee-41ecec45d20e",
   "metadata": {},
   "outputs": [],
   "source": [
    "fake_module_dir = Path(\".\").resolve().joinpath(\"fake_modules\")\n",
    "fake_module_dir.mkdir(exist_ok=True)"
   ]
  },
  {
   "cell_type": "code",
   "execution_count": 15,
   "id": "375b75f3-1cba-4272-bd51-6643ff0fb899",
   "metadata": {},
   "outputs": [],
   "source": [
    "pcost_path = fake_module_dir.joinpath(\"pcost.py\")\n",
    "stock_path = fake_module_dir.joinpath(\"stock.py\")\n",
    "\n",
    "pcost_str = \"\"\"import csv\n",
    "from io import StringIO\n",
    "\n",
    "portfolio_dat = '''AA 100 32.20\n",
    "IBM 50 91.10\n",
    "CAT 150 83.44\n",
    "MSFT 200 51.23\n",
    "GE 95 40.37\n",
    "MSFT 50 65.10\n",
    "IBM 100 70.44\n",
    "'''\n",
    "\n",
    "def portfolio_cost(portfolio_data: str) -> float:\n",
    "    reader = csv.DictReader(\n",
    "        f=StringIO(portfolio_data),\n",
    "        delimiter=\" \",\n",
    "        fieldnames=[\"ticker\", \"quantity\", \"purchase_price\"]\n",
    "    )\n",
    "    total_basis_costs = 0\n",
    "    for record in reader:\n",
    "        # print(record)\n",
    "        ticker = record[\"ticker\"]\n",
    "        try:\n",
    "            quantity = int(record[\"quantity\"])\n",
    "        except ValueError:\n",
    "            quantity = None\n",
    "            print(\n",
    "                f\"Couldn't parse quantity value '{quantity}' from record\" +\n",
    "                f\"  '{record}'  to type int.\"\n",
    "            )\n",
    "        try:\n",
    "            purchase_price = float(record[\"purchase_price\"])\n",
    "        except ValueError:\n",
    "            purchase_price = None\n",
    "            print(\n",
    "                f\"Couldn't parse purchase_price value '{purchase_price}' from\" +\n",
    "                f\"  '{record}'  to type float\"\n",
    "            )\n",
    "        try:\n",
    "            cost_basis = round(quantity * purchase_price, 2)\n",
    "            total_basis_costs = total_basis_costs + cost_basis\n",
    "        except TypeError:\n",
    "            print(\n",
    "                f\"Couldn't produce cost_basis.\" +\n",
    "                f\"  quantity: {quantity},\" +\n",
    "                f\"  purchase_price: {purchase_price}\"\n",
    "            )\n",
    "    return round(total_basis_costs, 2)\n",
    "\n",
    "if __name__ == \"__main__\":\n",
    "    print(portfolio_cost(portfolio_dat))\n",
    "\"\"\"\n",
    "\n",
    "stock_str = \"\"\"class Stock:\n",
    "    def __init__(self, name, shares, price):\n",
    "        self.name = name\n",
    "        self.shares = shares\n",
    "        self.price = price\n",
    "    def cost(self):\n",
    "        return self.shares * self.price\"\"\""
   ]
  },
  {
   "cell_type": "code",
   "execution_count": 16,
   "id": "08181a8a-21ba-4d9e-9174-defc4ff9e73b",
   "metadata": {},
   "outputs": [],
   "source": [
    "def write_file(file_path: Path, text: str) -> None:\n",
    "    with open(file_path, \"w\") as f:\n",
    "        f.writelines([f\"{line}\\n\" for line in text.split(\"\\n\", -1)])"
   ]
  },
  {
   "cell_type": "code",
   "execution_count": 17,
   "id": "e6c828ad-c764-4171-a93a-884cac6dca8c",
   "metadata": {},
   "outputs": [],
   "source": [
    "write_file(file_path=pcost_path, text=pcost_str)\n",
    "write_file(file_path=stock_path, text=stock_str)"
   ]
  },
  {
   "cell_type": "code",
   "execution_count": 18,
   "id": "e7ae3948-4108-460e-8aad-381fbca967d1",
   "metadata": {},
   "outputs": [],
   "source": [
    "from fake_modules.pcost import portfolio_cost as module_portfolio_cost\n",
    "from fake_modules.stock import Stock as module_Stock"
   ]
  },
  {
   "cell_type": "code",
   "execution_count": 19,
   "id": "01db8c26-8d43-4770-b26b-f43da42fe3d1",
   "metadata": {},
   "outputs": [
    {
     "data": {
      "text/plain": [
       "44671.15"
      ]
     },
     "execution_count": 19,
     "metadata": {},
     "output_type": "execute_result"
    }
   ],
   "source": [
    "portfolio_dat = \"\"\"AA 100 32.20\n",
    "IBM 50 91.10\n",
    "CAT 150 83.44\n",
    "MSFT 200 51.23\n",
    "GE 95 40.37\n",
    "MSFT 50 65.10\n",
    "IBM 100 70.44\n",
    "\"\"\"\n",
    "\n",
    "module_portfolio_cost(portfolio_dat)"
   ]
  },
  {
   "cell_type": "code",
   "execution_count": 20,
   "id": "14180c2e-12b8-4a3c-86b2-7c4f3d0bc7ac",
   "metadata": {},
   "outputs": [
    {
     "name": "stdout",
     "output_type": "stream",
     "text": [
      "44671.15\n"
     ]
    }
   ],
   "source": [
    "!python fake_modules/pcost.py"
   ]
  },
  {
   "cell_type": "code",
   "execution_count": 21,
   "id": "bb02f6a4-b8fd-4712-9c27-f880cbf8de77",
   "metadata": {},
   "outputs": [
    {
     "name": "stdout",
     "output_type": "stream",
     "text": [
      "Stock name:      GOOG\n",
      "Stock shares:     100\n",
      "Stock price:   $490.1\n",
      "Stock cost:  $49010.0\n"
     ]
    }
   ],
   "source": [
    "module_s = module_Stock('GOOG', 100, 490.10)\n",
    "print(f\"Stock name:   {module_s.name:>7}\")\n",
    "print(f\"Stock shares: {module_s.shares:>7}\")\n",
    "print(f\"Stock price:  {f'${module_s.price}':>7}\")\n",
    "print(f\"Stock cost:  ${module_s.cost():>7}\")"
   ]
  },
  {
   "cell_type": "code",
   "execution_count": null,
   "id": "7661134e-9e84-4c67-adb7-472afea384df",
   "metadata": {},
   "outputs": [],
   "source": []
  },
  {
   "cell_type": "code",
   "execution_count": null,
   "id": "746c0022-64f1-4261-95cf-329005c3df79",
   "metadata": {},
   "outputs": [],
   "source": []
  },
  {
   "cell_type": "code",
   "execution_count": null,
   "id": "50056602-7fda-4443-92bc-f3991b9e35ed",
   "metadata": {},
   "outputs": [],
   "source": []
  }
 ],
 "metadata": {
  "kernelspec": {
   "display_name": "Python (geo_env)",
   "language": "python",
   "name": "geo_env"
  },
  "language_info": {
   "codemirror_mode": {
    "name": "ipython",
    "version": 3
   },
   "file_extension": ".py",
   "mimetype": "text/x-python",
   "name": "python",
   "nbconvert_exporter": "python",
   "pygments_lexer": "ipython3",
   "version": "3.10.8"
  }
 },
 "nbformat": 4,
 "nbformat_minor": 5
}
